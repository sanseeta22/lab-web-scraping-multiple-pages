{
 "cells": [
  {
   "cell_type": "code",
   "execution_count": 1,
   "id": "4862dc11-972f-405f-ae22-f29e486fab82",
   "metadata": {},
   "outputs": [],
   "source": [
    "import requests\n",
    "from bs4 import BeautifulSoup\n",
    "import pandas as pd"
   ]
  },
  {
   "cell_type": "markdown",
   "id": "fae7d24f-a637-4629-b2c7-b45ffeb54e9d",
   "metadata": {},
   "source": [
    "# Retrieve an arbitrary Wikipedia page of \"Python\" and create a list of links on that page: url ='https://en.wikipedia.org/wiki/Python'"
   ]
  },
  {
   "cell_type": "code",
   "execution_count": 2,
   "id": "1fae31bb-ccdf-4801-86df-92d0e1c701f0",
   "metadata": {},
   "outputs": [
    {
     "data": {
      "text/plain": [
       "<Response [200]>"
      ]
     },
     "execution_count": 2,
     "metadata": {},
     "output_type": "execute_result"
    }
   ],
   "source": [
    "# URL of the page containing the top 100 songs\n",
    "url = \"https://en.wikipedia.org/wiki/Python\"\n",
    "\n",
    "# Send a GET request to the URL\n",
    "response = requests.get(url)\n",
    "response"
   ]
  },
  {
   "cell_type": "code",
   "execution_count": 3,
   "id": "89305ff2-d007-43b8-9a0d-4b4ea5571fbf",
   "metadata": {},
   "outputs": [],
   "source": [
    "#parse html (create the 'soup')\n",
    "soup = BeautifulSoup(response.content, \"html.parser\")"
   ]
  },
  {
   "cell_type": "code",
   "execution_count": 4,
   "id": "759895be-f9b6-408c-bc64-38adb29b9fb5",
   "metadata": {},
   "outputs": [
    {
     "name": "stdout",
     "output_type": "stream",
     "text": [
      "https://donate.wikimedia.org/wiki/Special:FundraiserRedirector?utm_source=donate&utm_medium=sidebar&utm_campaign=C13_en.wikipedia.org&uselang=en\n",
      "https://af.wikipedia.org/wiki/Python\n",
      "https://als.wikipedia.org/wiki/Python\n",
      "https://ar.wikipedia.org/wiki/%D8%A8%D8%A7%D9%8A%D8%AB%D9%88%D9%86_(%D8%AA%D9%88%D8%B6%D9%8A%D8%AD)\n",
      "https://az.wikipedia.org/wiki/Python_(d%C9%99qiql%C9%99%C5%9Fdirm%C9%99)\n",
      "https://bn.wikipedia.org/wiki/%E0%A6%AA%E0%A6%BE%E0%A6%87%E0%A6%A5%E0%A6%A8_(%E0%A6%A6%E0%A7%8D%E0%A6%AC%E0%A7%8D%E0%A6%AF%E0%A6%B0%E0%A7%8D%E0%A6%A5%E0%A6%A4%E0%A6%BE_%E0%A6%A8%E0%A6%BF%E0%A6%B0%E0%A6%B8%E0%A6%A8)\n",
      "https://be.wikipedia.org/wiki/Python\n",
      "https://bg.wikipedia.org/wiki/%D0%9F%D0%B8%D1%82%D0%BE%D0%BD_(%D0%BF%D0%BE%D1%8F%D1%81%D0%BD%D0%B5%D0%BD%D0%B8%D0%B5)\n",
      "https://cs.wikipedia.org/wiki/Python_(rozcestn%C3%ADk)\n",
      "https://da.wikipedia.org/wiki/Python\n",
      "https://de.wikipedia.org/wiki/Python\n",
      "https://eo.wikipedia.org/wiki/Pitono_(apartigilo)\n",
      "https://eu.wikipedia.org/wiki/Python_(argipena)\n",
      "https://fa.wikipedia.org/wiki/%D9%BE%D8%A7%DB%8C%D8%AA%D9%88%D9%86\n",
      "https://fr.wikipedia.org/wiki/Python\n",
      "https://ko.wikipedia.org/wiki/%ED%8C%8C%EC%9D%B4%EC%84%A0\n",
      "https://hr.wikipedia.org/wiki/Python_(razdvojba)\n",
      "https://io.wikipedia.org/wiki/Pitono\n",
      "https://id.wikipedia.org/wiki/Python\n",
      "https://ia.wikipedia.org/wiki/Python_(disambiguation)\n",
      "https://is.wikipedia.org/wiki/Python_(a%C3%B0greining)\n",
      "https://it.wikipedia.org/wiki/Python_(disambigua)\n",
      "https://he.wikipedia.org/wiki/%D7%A4%D7%99%D7%AA%D7%95%D7%9F\n",
      "https://kn.wikipedia.org/wiki/%E0%B2%B9%E0%B3%86%E0%B2%AC%E0%B3%8D%E0%B2%AC%E0%B2%BE%E0%B2%B5%E0%B3%81\n",
      "https://ka.wikipedia.org/wiki/%E1%83%9E%E1%83%98%E1%83%97%E1%83%9D%E1%83%9C%E1%83%98_(%E1%83%9B%E1%83%A0%E1%83%90%E1%83%95%E1%83%90%E1%83%9A%E1%83%9B%E1%83%9C%E1%83%98%E1%83%A8%E1%83%95%E1%83%9C%E1%83%94%E1%83%9A%E1%83%9D%E1%83%95%E1%83%90%E1%83%9C%E1%83%98)\n",
      "https://kg.wikipedia.org/wiki/Mboma_(nyoka)\n",
      "https://la.wikipedia.org/wiki/Python_(discretiva)\n",
      "https://lb.wikipedia.org/wiki/Python\n",
      "https://hu.wikipedia.org/wiki/Python_(egy%C3%A9rtelm%C5%B1s%C3%ADt%C5%91_lap)\n",
      "https://mr.wikipedia.org/wiki/%E0%A4%AA%E0%A4%BE%E0%A4%AF%E0%A4%A5%E0%A5%89%E0%A4%A8_(%E0%A4%86%E0%A4%9C%E0%A5%8D%E0%A4%9E%E0%A4%BE%E0%A4%B5%E0%A4%B2%E0%A5%80_%E0%A4%AD%E0%A4%BE%E0%A4%B7%E0%A4%BE)\n",
      "https://nl.wikipedia.org/wiki/Python\n",
      "https://ja.wikipedia.org/wiki/%E3%83%91%E3%82%A4%E3%82%BD%E3%83%B3\n",
      "https://no.wikipedia.org/wiki/Pyton\n",
      "https://pl.wikipedia.org/wiki/Pyton\n",
      "https://pt.wikipedia.org/wiki/Python_(desambigua%C3%A7%C3%A3o)\n",
      "https://ru.wikipedia.org/wiki/Python_(%D0%B7%D0%BD%D0%B0%D1%87%D0%B5%D0%BD%D0%B8%D1%8F)\n",
      "https://sk.wikipedia.org/wiki/Python\n",
      "https://sr.wikipedia.org/wiki/%D0%9F%D0%B8%D1%82%D0%BE%D0%BD_(%D0%B2%D0%B8%D1%88%D0%B5%D0%B7%D0%BD%D0%B0%D1%87%D0%BD%D0%B0_%D0%BE%D0%B4%D1%80%D0%B5%D0%B4%D0%BD%D0%B8%D1%86%D0%B0)\n",
      "https://sh.wikipedia.org/wiki/Python\n",
      "https://fi.wikipedia.org/wiki/Python\n",
      "https://sv.wikipedia.org/wiki/Pyton\n",
      "https://th.wikipedia.org/wiki/%E0%B9%84%E0%B8%9E%E0%B8%97%E0%B8%AD%E0%B8%99\n",
      "https://tr.wikipedia.org/wiki/Python_(anlam_ayr%C4%B1m%C4%B1)\n",
      "https://uk.wikipedia.org/wiki/%D0%9F%D1%96%D1%84%D0%BE%D0%BD\n",
      "https://ur.wikipedia.org/wiki/%D9%BE%D8%A7%D8%A6%DB%8C%D8%AA%DA%BE%D9%88%D9%86\n",
      "https://vi.wikipedia.org/wiki/Python\n",
      "https://zh.wikipedia.org/wiki/Python_(%E6%B6%88%E6%AD%A7%E4%B9%89)\n",
      "https://www.wikidata.org/wiki/Special:EntityPage/Q747452#sitelinks-wikipedia\n",
      "https://www.wikidata.org/wiki/Special:EntityPage/Q747452\n",
      "https://commons.wikimedia.org/wiki/Category:Python\n",
      "https://en.wiktionary.org/wiki/Python\n",
      "https://en.wiktionary.org/wiki/python\n",
      "https://en.wikipedia.org/w/index.php?title=Special:WhatLinksHere/Python&namespace=0\n",
      "https://en.wikipedia.org/w/index.php?title=Python&oldid=1213626445\n",
      "https://foundation.wikimedia.org/wiki/Special:MyLanguage/Policy:Privacy_policy\n",
      "https://foundation.wikimedia.org/wiki/Special:MyLanguage/Policy:Universal_Code_of_Conduct\n",
      "https://developer.wikimedia.org\n",
      "https://stats.wikimedia.org/#/en.wikipedia.org\n",
      "https://foundation.wikimedia.org/wiki/Special:MyLanguage/Policy:Cookie_statement\n",
      "https://wikimediafoundation.org/\n",
      "https://www.mediawiki.org/\n"
     ]
    }
   ],
   "source": [
    "# Select all <a> elements with href attribute\n",
    "links = soup.select('a[href]')\n",
    "\n",
    "# Extract and print the URLs\n",
    "for link in links:\n",
    "    # Extract the URL from the href attribute of the <a> tag\n",
    "    link_url = link['href']\n",
    "    # Check if the link starts with \"http\" or \"https\" to filter out internal links\n",
    "    if link_url.startswith(\"http\"):\n",
    "        # Print the extracted URL\n",
    "        print(link_url)"
   ]
  },
  {
   "cell_type": "markdown",
   "id": "f3392c75-ab1f-4329-9fe8-44bb1e2766ff",
   "metadata": {},
   "source": [
    "# Find the number of titles that have changed in the United States Code since its last release point: url = 'http://uscode.house.gov/download/download.shtml'"
   ]
  },
  {
   "cell_type": "code",
   "execution_count": 5,
   "id": "830c69d3-8b90-48a0-bdc7-3865bd2ed5ab",
   "metadata": {},
   "outputs": [],
   "source": [
    "# URL of the United States Code download page\n",
    "url = 'http://uscode.house.gov/download/download.shtml'\n",
    "\n",
    "# Send a GET request to the URL\n",
    "response = requests.get(url)"
   ]
  },
  {
   "cell_type": "code",
   "execution_count": 6,
   "id": "95642127-66ed-4f23-b562-1182815dee0e",
   "metadata": {},
   "outputs": [
    {
     "name": "stdout",
     "output_type": "stream",
     "text": [
      "Titles that have been changed since the last release point:\n",
      "Title 8 - Aliens and Nationality\n",
      "Title 10 - Armed Forces٭\n",
      "Title 15 - Commerce and Trade\n",
      "Title 16 - Conservation\n",
      "Title 21 - Food and Drugs\n",
      "Title 22 - Foreign Relations and Intercourse\n",
      "Title 50 - War and National Defense\n"
     ]
    }
   ],
   "source": [
    "# Check if the request was successful\n",
    "if response.status_code == 200:\n",
    "    # Parse the HTML content of the page\n",
    "    soup = BeautifulSoup(response.text, 'html.parser')\n",
    "    \n",
    "    # Select all <div> elements with class 'usctitlechanged'\n",
    "    titles_changed_divs = soup.select('div.usctitlechanged')\n",
    "    \n",
    "    # Extract the text from the selected <div> elements\n",
    "    changed_titles = [div.get_text(strip=True) for div in titles_changed_divs]\n",
    "    \n",
    "    print(\"Titles that have been changed since the last release point:\")\n",
    "    for title in changed_titles:\n",
    "        print(title)\n",
    "else:\n",
    "    print(\"Failed to retrieve page:\", response.status_code)\n"
   ]
  },
  {
   "cell_type": "markdown",
   "id": "38a09974-fa52-4792-af02-2b6329cdccd7",
   "metadata": {},
   "source": [
    "# List all language names and number of related articles in the order they appear in wikipedia.org: url = 'https://www.wikipedia.org/'"
   ]
  },
  {
   "cell_type": "code",
   "execution_count": 7,
   "id": "d565c699-ac21-462f-802b-d778e265e972",
   "metadata": {},
   "outputs": [
    {
     "name": "stdout",
     "output_type": "stream",
     "text": [
      "English: 6,796,000+ articles\n",
      "EspaÃ±ol: 1.938.000+ artÃ­culos\n",
      "Ð ÑÑÑÐºÐ¸Ð¹: 1Â 969Â 000+ ÑÑÐ°ÑÐµÐ¹\n",
      "æ¥æ¬èª: 1,407,000+ è¨äº\n",
      "Deutsch: 2.891.000+ Artikel\n",
      "FranÃ§ais: 2â¯598â¯000+ articles\n",
      "Italiano: 1.853.000+ voci\n",
      "ä¸­æ: 1,409,000+ æ¡ç® / æ¢ç®\n",
      "ÙØ§Ø±Ø³Û: Û¹Û¹ÛµÙ¬Û°Û°Û°+ Ù",
      "ÙØ§ÙÙ\n",
      "PortuguÃªs: 1.120.000+ artigos\n"
     ]
    }
   ],
   "source": [
    "# URL of the Wikipedia homepage\n",
    "url = 'https://www.wikipedia.org/'\n",
    "\n",
    "# Send a GET request to the URL\n",
    "response = requests.get(url)\n",
    "soup = BeautifulSoup(response.text, 'html.parser')\n",
    "\n",
    "\n",
    "language_links = soup.select('a.link-box')\n",
    "language_links\n",
    "\n",
    "# Extract language names and number of articles\n",
    "language_info = []\n",
    "\n",
    "for link in language_links:\n",
    "    language_name = link.find('strong').get_text()\n",
    "    num_articles = link.find('small').get_text().replace('\\xa0', ' ')\n",
    "    language_info.append((language_name, num_articles))\n",
    "    \n",
    "# Print language names and number of articles\n",
    "for language, articles in language_info:\n",
    "    print(f\"{language}: {articles}\")"
   ]
  },
  {
   "cell_type": "markdown",
   "id": "0d5b70fd-f72e-46ee-8d35-85213b12fd25",
   "metadata": {},
   "source": [
    "# A list with the different kind of datasets available in data.gov.uk: url = 'https://data.gov.uk/'"
   ]
  },
  {
   "cell_type": "code",
   "execution_count": 8,
   "id": "0003c022-980a-4c09-b22f-0c906e95728a",
   "metadata": {},
   "outputs": [
    {
     "data": {
      "text/plain": [
       "[<a class=\"govuk-link\" href=\"/search?filters%5Btopic%5D=Business+and+economy\">Business and economy</a>,\n",
       " <a class=\"govuk-link\" href=\"/search?filters%5Btopic%5D=Crime+and+justice\">Crime and justice</a>,\n",
       " <a class=\"govuk-link\" href=\"/search?filters%5Btopic%5D=Defence\">Defence</a>,\n",
       " <a class=\"govuk-link\" href=\"/search?filters%5Btopic%5D=Education\">Education</a>,\n",
       " <a class=\"govuk-link\" href=\"/search?filters%5Btopic%5D=Environment\">Environment</a>,\n",
       " <a class=\"govuk-link\" href=\"/search?filters%5Btopic%5D=Government\">Government</a>,\n",
       " <a class=\"govuk-link\" href=\"/search?filters%5Btopic%5D=Government+spending\">Government spending</a>,\n",
       " <a class=\"govuk-link\" href=\"/search?filters%5Btopic%5D=Health\">Health</a>,\n",
       " <a class=\"govuk-link\" href=\"/search?filters%5Btopic%5D=Mapping\">Mapping</a>,\n",
       " <a class=\"govuk-link\" href=\"/search?filters%5Btopic%5D=Society\">Society</a>,\n",
       " <a class=\"govuk-link\" href=\"/search?filters%5Btopic%5D=Towns+and+cities\">Towns and cities</a>,\n",
       " <a class=\"govuk-link\" href=\"/search?filters%5Btopic%5D=Transport\">Transport</a>,\n",
       " <a class=\"govuk-link\" href=\"/search?filters%5Btopic%5D=Digital+service+performance\">Digital service performance</a>,\n",
       " <a class=\"govuk-link\" href=\"/search?filters%5Btopic%5D=Government+reference+data\">Government reference data</a>]"
      ]
     },
     "execution_count": 8,
     "metadata": {},
     "output_type": "execute_result"
    }
   ],
   "source": [
    "# URL of the data.gov.uk search page for Crime and Justice\n",
    "url = 'https://www.data.gov.uk/'\n",
    "\n",
    "# Send a GET request to the URL\n",
    "response = requests.get(url)\n",
    "\n",
    "# Parse the HTML content of the page\n",
    "soup = BeautifulSoup(response.text, 'html.parser')\n",
    "\n",
    "# Find all links within the 'div' with class 'govuk-grid-column-full'\n",
    "links = soup.select('div.govuk-grid-column-full a')\n",
    "links\n"
   ]
  },
  {
   "cell_type": "code",
   "execution_count": 11,
   "id": "e9b9d790-1b80-435c-a12b-b387b9028af5",
   "metadata": {},
   "outputs": [
    {
     "data": {
      "text/plain": [
       "['/search?filters%5Btopic%5D=Business+and+economy',\n",
       " '/search?filters%5Btopic%5D=Crime+and+justice',\n",
       " '/search?filters%5Btopic%5D=Defence',\n",
       " '/search?filters%5Btopic%5D=Education',\n",
       " '/search?filters%5Btopic%5D=Environment',\n",
       " '/search?filters%5Btopic%5D=Government',\n",
       " '/search?filters%5Btopic%5D=Government+spending',\n",
       " '/search?filters%5Btopic%5D=Health',\n",
       " '/search?filters%5Btopic%5D=Mapping',\n",
       " '/search?filters%5Btopic%5D=Society',\n",
       " '/search?filters%5Btopic%5D=Towns+and+cities',\n",
       " '/search?filters%5Btopic%5D=Transport',\n",
       " '/search?filters%5Btopic%5D=Digital+service+performance',\n",
       " '/search?filters%5Btopic%5D=Government+reference+data']"
      ]
     },
     "execution_count": 11,
     "metadata": {},
     "output_type": "execute_result"
    }
   ],
   "source": [
    "# Extract the href attribute (link) from each link\n",
    "topic_links = [link['href'] for link in links]\n",
    "topic_links    \n",
    "     \n"
   ]
  },
  {
   "cell_type": "code",
   "execution_count": 13,
   "id": "ac2311a8-9abf-4b22-ae0b-f98b4355433f",
   "metadata": {},
   "outputs": [
    {
     "name": "stdout",
     "output_type": "stream",
     "text": [
      "Different topics or categories of datasets:\n",
      "Business and economy\n",
      "Crime and justice\n",
      "Defence\n",
      "Education\n",
      "Environment\n",
      "Government\n",
      "Government spending\n",
      "Health\n",
      "Mapping\n",
      "Society\n",
      "Towns and cities\n",
      "Transport\n",
      "Digital service performance\n",
      "Government reference data\n"
     ]
    }
   ],
   "source": [
    "# We parse and extract the topic names from the URLs. This involves splitting the URLs and replacing + characters with spaces.\n",
    "topics = [link.split('=')[-1].replace('+', ' ') for link in topic_links]    \n",
    "\n",
    "# Print the list of topic names\n",
    "print(\"Different topics or categories of datasets:\")\n",
    "for topic in topics:\n",
    " print(topic)   "
   ]
  },
  {
   "cell_type": "code",
   "execution_count": null,
   "id": "81841dad-e544-46aa-9a63-c915c1d66d02",
   "metadata": {},
   "outputs": [],
   "source": []
  }
 ],
 "metadata": {
  "kernelspec": {
   "display_name": "Python 3 (ipykernel)",
   "language": "python",
   "name": "python3"
  },
  "language_info": {
   "codemirror_mode": {
    "name": "ipython",
    "version": 3
   },
   "file_extension": ".py",
   "mimetype": "text/x-python",
   "name": "python",
   "nbconvert_exporter": "python",
   "pygments_lexer": "ipython3",
   "version": "3.11.7"
  }
 },
 "nbformat": 4,
 "nbformat_minor": 5
}
